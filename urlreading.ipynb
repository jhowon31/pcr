{
 "cells": [
  {
   "cell_type": "code",
   "execution_count": 1,
   "metadata": {},
   "outputs": [],
   "source": [
    "import cv2\n",
    "cap = cv2.VideoCapture(0)\n",
    "if cap.isOpened():\n",
    "    while True:\n",
    "        ret, frame = cap.read()\n",
    "        if ret:\n",
    "            cv2.imshow('camera',frame)\n",
    "            if cv2.waitKey(1) != -1:\n",
    "                cv2.imwrite('photo1.jpg',frame,params = [cv2.IMWRITE_JPEG_QUALITY,100])\n",
    "                break\n",
    "        else:\n",
    "            print('no frame')\n",
    "            break\n",
    "    else:\n",
    "        print('no camera')\n",
    "cap.release()\n",
    "cv2.destroyAllWindows()\n",
    "import pytesseract\n",
    "from PIL import Image\n",
    "pytesseract.pytesseract.tesseract_cmd = r'C:\\Program Files\\Tesseract-OCR\\tesseract.exe'\n",
    "img = pytesseract.image_to_string(Image.open(r'C:\\Users\\jhowo\\Desktop\\laptop\\image\\url.jpg'))\n",
    "txt = img.splitlines()\n",
    "txt1 = ''.join(txt)\n",
    "print(txt1)"
   ]
  },
  {
   "cell_type": "code",
   "execution_count": null,
   "metadata": {},
   "outputs": [],
   "source": []
  }
 ],
 "metadata": {
  "kernelspec": {
   "display_name": "patt",
   "language": "python",
   "name": "patt"
  },
  "language_info": {
   "codemirror_mode": {
    "name": "ipython",
    "version": 3
   },
   "file_extension": ".py",
   "mimetype": "text/x-python",
   "name": "python",
   "nbconvert_exporter": "python",
   "pygments_lexer": "ipython3",
   "version": "3.7.7"
  }
 },
 "nbformat": 4,
 "nbformat_minor": 4
}
